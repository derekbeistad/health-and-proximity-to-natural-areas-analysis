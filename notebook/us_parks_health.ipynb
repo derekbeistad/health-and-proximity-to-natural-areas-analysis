{
 "cells": [
  {
   "cell_type": "markdown",
   "id": "a9aa7f93",
   "metadata": {},
   "source": [
    "# Imports"
   ]
  },
  {
   "cell_type": "code",
   "execution_count": 1,
   "id": "74ead295",
   "metadata": {},
   "outputs": [],
   "source": [
    "import pandas as pd\n",
    "import numpy as np\n",
    "import geopandas as gpd\n",
    "import folium\n",
    "from shapely.ops import unary_union\n",
    "import matplotlib.pyplot as plt\n",
    "from shapely import wkt"
   ]
  },
  {
   "cell_type": "markdown",
   "id": "9806a9d4",
   "metadata": {},
   "source": [
    "# Constants"
   ]
  },
  {
   "cell_type": "code",
   "execution_count": 50,
   "id": "58e08abc",
   "metadata": {},
   "outputs": [],
   "source": [
    "CRS = 4326\n",
    "CRS_METERS = 32616\n",
    "COLORS = {\n",
    "    'green': '#83bca9',\n",
    "    'darkgreen': '#3e5641'\n",
    "}"
   ]
  },
  {
   "cell_type": "markdown",
   "id": "06b729d7",
   "metadata": {},
   "source": [
    "## Load in USA Parks data"
   ]
  },
  {
   "cell_type": "code",
   "execution_count": 29,
   "id": "8771fe3c",
   "metadata": {},
   "outputs": [],
   "source": [
    "usa_parks = gpd.read_file(\"../data/USA_Parks/v10/park_dtl.gdb/\")\n",
    "usa_parks = usa_parks.to_crs(epsg=CRS) # convert to const CRS value (32616)"
   ]
  },
  {
   "cell_type": "markdown",
   "id": "58af898f",
   "metadata": {},
   "source": [
    "## Load US State Boundaries"
   ]
  },
  {
   "cell_type": "code",
   "execution_count": 30,
   "id": "4d05aa91",
   "metadata": {},
   "outputs": [],
   "source": [
    "us_states = pd.read_csv(\"../data/United_States_Boundary_Files.csv\")\n",
    "us_states['geometry'] = us_states['the_geom'].apply(wkt.loads) # create geometry column with safety\n",
    "us_states_gdf = gpd.GeoDataFrame(us_states, crs = CRS) # convert to GeoPd DF with const CRS value (4326)"
   ]
  },
  {
   "cell_type": "markdown",
   "id": "6d25840b",
   "metadata": {},
   "source": [
    "### Find parks only in or bordering TN"
   ]
  },
  {
   "cell_type": "code",
   "execution_count": 31,
   "id": "fa200fa9",
   "metadata": {},
   "outputs": [],
   "source": [
    "tn_parks = gpd.sjoin(usa_parks, # sjoin to find the parks that 'intersect' or are in and on the border of TN\n",
    "                     us_states_gdf.loc[us_states_gdf['STUSPS'] == 'TN'],\n",
    "                     predicate = 'intersects')\n",
    "\n",
    "tn_parks['name'] = tn_parks['NAME_left'] # rename name column\n",
    "tn_parks = tn_parks[['name', 'FEATTYPE', 'SQMI', 'geometry']] # keep only neccessary columns"
   ]
  },
  {
   "cell_type": "code",
   "execution_count": 128,
   "id": "c85d7be4",
   "metadata": {},
   "outputs": [],
   "source": [
    "tn_parks.to_file('../data/tn_parks.geojson', driver='GeoJSON')"
   ]
  },
  {
   "cell_type": "markdown",
   "id": "67affef5",
   "metadata": {},
   "source": [
    "# Create a map of the TN parks"
   ]
  },
  {
   "cell_type": "code",
   "execution_count": 6,
   "id": "73792bab",
   "metadata": {},
   "outputs": [],
   "source": [
    "# tn_map = folium.Map(tiles = \"Cartodb Positron\",\n",
    "#                      location = (36, -86.1),\n",
    "#                      zoom_start = 7,\n",
    "#                      prefer_canvas=True)"
   ]
  },
  {
   "cell_type": "code",
   "execution_count": 7,
   "id": "41c71e05",
   "metadata": {},
   "outputs": [],
   "source": [
    "# add feature group\n",
    "# tn_layer = folium.FeatureGroup(name = 'Tennessee Parks', show = True)\n",
    "\n",
    "# for i, park in tn_parks.iterrows():    # iterate throug rows of TN parks GeoDF\n",
    "#     textbox = folium.Popup(\n",
    "#             park['name']\n",
    "#     )\n",
    "    \n",
    "#     folium.GeoJson(\n",
    "#             park['geometry'],\n",
    "#             popup = textbox,\n",
    "#             style_function=lambda x: {\"fillColor\": c['green'],\n",
    "#                                                                  'color':COLORS['darkgreen'],\n",
    "#                                                                 'weight': 0.5}).add_to(tn_layer)\n",
    "\n",
    "# tn_layer.add_to(tn_map)\n",
    "# folium.LayerControl().add_to(tn_map)"
   ]
  },
  {
   "cell_type": "markdown",
   "id": "127f155a",
   "metadata": {},
   "source": [
    "# Load in Places Data"
   ]
  },
  {
   "cell_type": "code",
   "execution_count": 135,
   "id": "e4165c7e",
   "metadata": {},
   "outputs": [],
   "source": [
    "places_df = pd.read_csv('../data/PLACES__Local_Data_for_Better_Health__Place_Data_2023_release_20240504.csv')\n",
    "places_tact = pd.read_csv('../data/PLACES__Local_Data_for_Better_Health__Census_Tract_Data_2023_release_20240504.csv')\n",
    "data_dict = pd.read_csv('../data/PLACES_and_500_Cities__Data_Dictionary_20240504.csv')"
   ]
  },
  {
   "cell_type": "markdown",
   "id": "76a9b503",
   "metadata": {},
   "source": [
    "#### Create places geopandas DF "
   ]
  },
  {
   "cell_type": "code",
   "execution_count": 136,
   "id": "6765f731",
   "metadata": {},
   "outputs": [],
   "source": [
    "places_df['geometry'] = places_df['Geolocation'].apply(wkt.loads) # create geometry column with safety\n",
    "places_gdf = gpd.GeoDataFrame(places_df, crs = CRS) # convert to GeoPd DF with const CRS value (4326)\n",
    "places_tact['geometry'] = places_df['Geolocation'].apply(wkt.loads) # create geometry column with safety\n",
    "tact_gdf = gpd.GeoDataFrame(places_df, crs = CRS) # convert to GeoPd DF with const CRS value (4326)"
   ]
  },
  {
   "cell_type": "markdown",
   "id": "7342ffe2",
   "metadata": {},
   "source": [
    "### Find Places data only in TN and filter out unneccessary columns"
   ]
  },
  {
   "cell_type": "code",
   "execution_count": 37,
   "id": "da042ff1",
   "metadata": {},
   "outputs": [],
   "source": [
    "tn_places = places_gdf.loc[places_gdf['StateAbbr'] == 'TN'][['Year',\n",
    "                                                             'Category', 'Measure',\n",
    "                                                             'Data_Value', 'TotalPopulation',\n",
    "                                                            'geometry', 'LocationID', 'MeasureId']]"
   ]
  },
  {
   "cell_type": "code",
   "execution_count": 141,
   "id": "ad0ae22c",
   "metadata": {},
   "outputs": [],
   "source": [
    "tn_tact = tact_gdf.loc[tact_gdf['StateAbbr'] == 'TN'][['Year',\n",
    "                                                             'Category', 'Measure',\n",
    "                                                             'Data_Value', 'TotalPopulation',\n",
    "                                                            'geometry', 'LocationID', 'MeasureId']]"
   ]
  },
  {
   "cell_type": "code",
   "execution_count": 132,
   "id": "e42496aa",
   "metadata": {},
   "outputs": [],
   "source": [
    "tn_places.to_file('../data/tn_health_points.geojson', driver='GeoJSON')"
   ]
  },
  {
   "cell_type": "code",
   "execution_count": 142,
   "id": "4fbd1171",
   "metadata": {},
   "outputs": [],
   "source": [
    "tn_tact.to_file('../data/tn_tact.geojson', driver='GeoJSON')"
   ]
  },
  {
   "cell_type": "markdown",
   "id": "7a345af8",
   "metadata": {},
   "source": [
    "####  Find the min distance between each Health data point and the nearest park. Save as CSV"
   ]
  },
  {
   "cell_type": "code",
   "execution_count": 38,
   "id": "914adc66",
   "metadata": {},
   "outputs": [],
   "source": [
    "# reproject to get distances in meters\n",
    "# tn_health_loc = tn_places[['LocationID', 'geometry']].to_crs(epsg=CRS_METERS) # create smaller Df to iterate through\n",
    "# tn_parks_loc = tn_parks[['name', 'geometry']].to_crs(epsg=CRS_METERS) # create smaller Df to iterate through"
   ]
  },
  {
   "cell_type": "code",
   "execution_count": 40,
   "id": "17d64f26",
   "metadata": {},
   "outputs": [],
   "source": [
    "# min_dist = [] # empty list to hold the min distances to create a new column out of\n",
    "# for i, r_health in tn_health_loc.iterrows(): # iterate through each row of the TN health data points\n",
    "#     distances = [] # create empty list to hold the distnace from the \n",
    "#                    # health point and each state park boundary\n",
    "#     for idx, r_park in tn_parks_loc.iterrows(): # iterate though each row of the TN parks data\n",
    "#         distances.append(r_health['geometry'].distance(r_park['geometry'])) # add the distance from \n",
    "#                                                                             # the health point top\n",
    "#                                                                             # each park to the list\n",
    "#     min_dist.append(np.min(distances)) # find the distance from the health point to the nearest park\n",
    "\n",
    "# tn_health_loc['distance'] = min_dist # create new column in the TN health points DF\n",
    "# tn_health_loc.to_csv('../data/TN_health_data_with_distances_to_parks.csv') # save as csv for future recals"
   ]
  },
  {
   "cell_type": "markdown",
   "id": "4528033c",
   "metadata": {},
   "source": [
    "# Load in TN Helath Distances CSV"
   ]
  },
  {
   "cell_type": "code",
   "execution_count": 41,
   "id": "e8fdb4b5",
   "metadata": {},
   "outputs": [],
   "source": [
    "tn_health_distances = pd.read_csv('../data/TN_health_data_with_distances_to_parks.csv')"
   ]
  },
  {
   "cell_type": "code",
   "execution_count": 56,
   "id": "79f7571a",
   "metadata": {},
   "outputs": [],
   "source": [
    "tn_places = tn_places.to_crs(epsg=CRS_METERS)\n",
    "tn_places_distances = tn_places.merge(right = tn_health_distances[['LocationID', 'distance']], on='LocationID', how='inner')"
   ]
  },
  {
   "cell_type": "markdown",
   "id": "abe09dd6",
   "metadata": {},
   "source": [
    "#### Measures to Focus on"
   ]
  },
  {
   "cell_type": "code",
   "execution_count": 126,
   "id": "aae45473",
   "metadata": {},
   "outputs": [],
   "source": [
    "# list of measures to focus on\n",
    "measures = ['CHD',\n",
    "           'CASTHMA',\n",
    "           'ACCESS2',\n",
    "           'DEPRESSION',\n",
    "           'DIABETES',\n",
    "           'BPHIGH',\n",
    "           'OBESITY',\n",
    "           'STROKE']"
   ]
  },
  {
   "cell_type": "markdown",
   "id": "cdfadd87",
   "metadata": {},
   "source": [
    "#### Filter the DF by measures"
   ]
  },
  {
   "cell_type": "code",
   "execution_count": 79,
   "id": "98931e94",
   "metadata": {},
   "outputs": [],
   "source": [
    "tn_places_distances = tn_places_distances.loc[tn_places_distances['MeasureId'].isin(measures)]"
   ]
  },
  {
   "cell_type": "code",
   "execution_count": 80,
   "id": "0ac87e2a",
   "metadata": {},
   "outputs": [
    {
     "data": {
      "text/plain": [
       "min        0.000000\n",
       "max    52456.962023\n",
       "Name: distance, dtype: float64"
      ]
     },
     "execution_count": 80,
     "metadata": {},
     "output_type": "execute_result"
    }
   ],
   "source": [
    "tn_places_distances['distance'].agg(['min', 'max'])"
   ]
  },
  {
   "cell_type": "code",
   "execution_count": 120,
   "id": "aadec63b",
   "metadata": {},
   "outputs": [],
   "source": [
    "tn_places_distances.to_csv('../data/TN_Health_data_cleaned.csv')"
   ]
  },
  {
   "cell_type": "code",
   "execution_count": 77,
   "id": "83e358fe",
   "metadata": {},
   "outputs": [
    {
     "data": {
      "text/html": [
       "<div>\n",
       "<style scoped>\n",
       "    .dataframe tbody tr th:only-of-type {\n",
       "        vertical-align: middle;\n",
       "    }\n",
       "\n",
       "    .dataframe tbody tr th {\n",
       "        vertical-align: top;\n",
       "    }\n",
       "\n",
       "    .dataframe thead th {\n",
       "        text-align: right;\n",
       "    }\n",
       "</style>\n",
       "<table border=\"1\" class=\"dataframe\">\n",
       "  <thead>\n",
       "    <tr style=\"text-align: right;\">\n",
       "      <th></th>\n",
       "      <th>Year</th>\n",
       "      <th>Category</th>\n",
       "      <th>Measure</th>\n",
       "      <th>Data_Value</th>\n",
       "      <th>TotalPopulation</th>\n",
       "      <th>geometry</th>\n",
       "      <th>LocationID</th>\n",
       "      <th>distance</th>\n",
       "    </tr>\n",
       "    <tr>\n",
       "      <th>MeasureId</th>\n",
       "      <th></th>\n",
       "      <th></th>\n",
       "      <th></th>\n",
       "      <th></th>\n",
       "      <th></th>\n",
       "      <th></th>\n",
       "      <th></th>\n",
       "      <th></th>\n",
       "    </tr>\n",
       "  </thead>\n",
       "  <tbody>\n",
       "    <tr>\n",
       "      <th>ACCESS2</th>\n",
       "      <td>63492</td>\n",
       "      <td>63492</td>\n",
       "      <td>63492</td>\n",
       "      <td>63344</td>\n",
       "      <td>63492</td>\n",
       "      <td>63492</td>\n",
       "      <td>63492</td>\n",
       "      <td>63492</td>\n",
       "    </tr>\n",
       "    <tr>\n",
       "      <th>BPHIGH</th>\n",
       "      <td>63492</td>\n",
       "      <td>63492</td>\n",
       "      <td>63492</td>\n",
       "      <td>63344</td>\n",
       "      <td>63492</td>\n",
       "      <td>63492</td>\n",
       "      <td>63492</td>\n",
       "      <td>63492</td>\n",
       "    </tr>\n",
       "    <tr>\n",
       "      <th>CANCER</th>\n",
       "      <td>63492</td>\n",
       "      <td>63492</td>\n",
       "      <td>63492</td>\n",
       "      <td>63344</td>\n",
       "      <td>63492</td>\n",
       "      <td>63492</td>\n",
       "      <td>63492</td>\n",
       "      <td>63492</td>\n",
       "    </tr>\n",
       "    <tr>\n",
       "      <th>CASTHMA</th>\n",
       "      <td>63492</td>\n",
       "      <td>63492</td>\n",
       "      <td>63492</td>\n",
       "      <td>63344</td>\n",
       "      <td>63492</td>\n",
       "      <td>63492</td>\n",
       "      <td>63492</td>\n",
       "      <td>63492</td>\n",
       "    </tr>\n",
       "    <tr>\n",
       "      <th>CHD</th>\n",
       "      <td>63492</td>\n",
       "      <td>63492</td>\n",
       "      <td>63492</td>\n",
       "      <td>63344</td>\n",
       "      <td>63492</td>\n",
       "      <td>63492</td>\n",
       "      <td>63492</td>\n",
       "      <td>63492</td>\n",
       "    </tr>\n",
       "    <tr>\n",
       "      <th>CHOLSCREEN</th>\n",
       "      <td>63492</td>\n",
       "      <td>63492</td>\n",
       "      <td>63492</td>\n",
       "      <td>63344</td>\n",
       "      <td>63492</td>\n",
       "      <td>63492</td>\n",
       "      <td>63492</td>\n",
       "      <td>63492</td>\n",
       "    </tr>\n",
       "    <tr>\n",
       "      <th>DEPRESSION</th>\n",
       "      <td>63492</td>\n",
       "      <td>63492</td>\n",
       "      <td>63492</td>\n",
       "      <td>63344</td>\n",
       "      <td>63492</td>\n",
       "      <td>63492</td>\n",
       "      <td>63492</td>\n",
       "      <td>63492</td>\n",
       "    </tr>\n",
       "    <tr>\n",
       "      <th>DIABETES</th>\n",
       "      <td>63492</td>\n",
       "      <td>63492</td>\n",
       "      <td>63492</td>\n",
       "      <td>63344</td>\n",
       "      <td>63492</td>\n",
       "      <td>63492</td>\n",
       "      <td>63492</td>\n",
       "      <td>63492</td>\n",
       "    </tr>\n",
       "    <tr>\n",
       "      <th>GHLTH</th>\n",
       "      <td>63492</td>\n",
       "      <td>63492</td>\n",
       "      <td>63492</td>\n",
       "      <td>63344</td>\n",
       "      <td>63492</td>\n",
       "      <td>63492</td>\n",
       "      <td>63492</td>\n",
       "      <td>63492</td>\n",
       "    </tr>\n",
       "    <tr>\n",
       "      <th>OBESITY</th>\n",
       "      <td>63492</td>\n",
       "      <td>63492</td>\n",
       "      <td>63492</td>\n",
       "      <td>63344</td>\n",
       "      <td>63492</td>\n",
       "      <td>63492</td>\n",
       "      <td>63492</td>\n",
       "      <td>63492</td>\n",
       "    </tr>\n",
       "    <tr>\n",
       "      <th>STROKE</th>\n",
       "      <td>63492</td>\n",
       "      <td>63492</td>\n",
       "      <td>63492</td>\n",
       "      <td>63344</td>\n",
       "      <td>63492</td>\n",
       "      <td>63492</td>\n",
       "      <td>63492</td>\n",
       "      <td>63492</td>\n",
       "    </tr>\n",
       "  </tbody>\n",
       "</table>\n",
       "</div>"
      ],
      "text/plain": [
       "             Year  Category  Measure  Data_Value  TotalPopulation  geometry  \\\n",
       "MeasureId                                                                     \n",
       "ACCESS2     63492     63492    63492       63344            63492     63492   \n",
       "BPHIGH      63492     63492    63492       63344            63492     63492   \n",
       "CANCER      63492     63492    63492       63344            63492     63492   \n",
       "CASTHMA     63492     63492    63492       63344            63492     63492   \n",
       "CHD         63492     63492    63492       63344            63492     63492   \n",
       "CHOLSCREEN  63492     63492    63492       63344            63492     63492   \n",
       "DEPRESSION  63492     63492    63492       63344            63492     63492   \n",
       "DIABETES    63492     63492    63492       63344            63492     63492   \n",
       "GHLTH       63492     63492    63492       63344            63492     63492   \n",
       "OBESITY     63492     63492    63492       63344            63492     63492   \n",
       "STROKE      63492     63492    63492       63344            63492     63492   \n",
       "\n",
       "            LocationID  distance  \n",
       "MeasureId                         \n",
       "ACCESS2          63492     63492  \n",
       "BPHIGH           63492     63492  \n",
       "CANCER           63492     63492  \n",
       "CASTHMA          63492     63492  \n",
       "CHD              63492     63492  \n",
       "CHOLSCREEN       63492     63492  \n",
       "DEPRESSION       63492     63492  \n",
       "DIABETES         63492     63492  \n",
       "GHLTH            63492     63492  \n",
       "OBESITY          63492     63492  \n",
       "STROKE           63492     63492  "
      ]
     },
     "execution_count": 77,
     "metadata": {},
     "output_type": "execute_result"
    }
   ],
   "source": [
    "tn_places_distances.groupby('MeasureId').count()"
   ]
  },
  {
   "cell_type": "code",
   "execution_count": 85,
   "id": "2354b584",
   "metadata": {},
   "outputs": [],
   "source": [
    "measure_dfs = {}\n",
    "for measure in measures:\n",
    "    new_df = tn_places_distances.loc[tn_places_distances['MeasureId'] == measure]\n",
    "\n",
    "    measure_dfs[f\"{measure.lower()}_tn_df\"] = new_df"
   ]
  },
  {
   "cell_type": "code",
   "execution_count": 102,
   "id": "561e579a",
   "metadata": {},
   "outputs": [
    {
     "name": "stderr",
     "output_type": "stream",
     "text": [
      "C:\\Users\\derek\\AppData\\Local\\Temp\\ipykernel_16200\\4286311905.py:1: FutureWarning: The default of observed=False is deprecated and will be changed to True in a future version of pandas. Pass observed=False to retain current behavior or observed=True to adopt the future default and silence this warning.\n",
      "  cancer_tn_groupby = measure_dfs['cancer_tn_df'][['distance', 'Data_Value']].groupby(pd.cut(measure_dfs['cancer_tn_df']['distance'], 20))['Data_Value']\n"
     ]
    }
   ],
   "source": [
    "cancer_tn_groupby = measure_dfs['cancer_tn_df'][['distance', 'Data_Value']].groupby(pd.cut(measure_dfs['cancer_tn_df']['distance'],\n",
    "                                                                                           20))['Data_Value']"
   ]
  },
  {
   "cell_type": "code",
   "execution_count": 133,
   "id": "acc61d84",
   "metadata": {},
   "outputs": [],
   "source": [
    "def create_3groups(x):\n",
    "        if x <= 5000:\n",
    "            return 'close'\n",
    "        elif x <= 15000:\n",
    "            return 'medium'\n",
    "        else:\n",
    "            return 'far'\n",
    "        \n",
    "def create_5groups(x):\n",
    "        if x <= 2000:\n",
    "            return '2k'\n",
    "        elif x <= 5000:\n",
    "            return '5k'\n",
    "        elif x <= 10000:\n",
    "            return '10k'\n",
    "        elif x <= 20000:\n",
    "            return '20k'\n",
    "        else:\n",
    "            return 'far'"
   ]
  },
  {
   "cell_type": "code",
   "execution_count": 134,
   "id": "71b5215a",
   "metadata": {},
   "outputs": [],
   "source": [
    "# create distance groups\n",
    "tn_places_distances['distance_category3'] = tn_places_distances['distance'].apply(lambda r: create_3groups(r))\n",
    "tn_places_distances['distance_category5'] = tn_places_distances['distance'].apply(lambda r: create_5groups(r))\n",
    "\n",
    "tn_places_distances.to_csv('../data/TN_Health_data_cleaned.csv')"
   ]
  },
  {
   "cell_type": "code",
   "execution_count": null,
   "id": "cd350f62",
   "metadata": {},
   "outputs": [],
   "source": [
    "# for key in measure_dfs_keys:\n",
    "#     measure_dfs[key][['distance',\n",
    "#                       'Data_Value']].groupby(pd.cut(measure_dfs['cancer_tn_df']['distance'],\n",
    "#                                                                         20))['Data_Value']"
   ]
  },
  {
   "cell_type": "code",
   "execution_count": null,
   "id": "7af51033",
   "metadata": {},
   "outputs": [],
   "source": [
    "walkability = "
   ]
  },
  {
   "cell_type": "code",
   "execution_count": null,
   "id": "18e660f6",
   "metadata": {},
   "outputs": [],
   "source": []
  }
 ],
 "metadata": {
  "kernelspec": {
   "display_name": "Python [conda env:us_parks_health]",
   "language": "python",
   "name": "conda-env-us_parks_health-py"
  },
  "language_info": {
   "codemirror_mode": {
    "name": "ipython",
    "version": 3
   },
   "file_extension": ".py",
   "mimetype": "text/x-python",
   "name": "python",
   "nbconvert_exporter": "python",
   "pygments_lexer": "ipython3",
   "version": "3.10.14"
  }
 },
 "nbformat": 4,
 "nbformat_minor": 5
}
