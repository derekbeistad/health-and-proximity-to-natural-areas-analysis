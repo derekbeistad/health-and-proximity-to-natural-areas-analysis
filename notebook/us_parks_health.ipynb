{
 "cells": [
  {
   "cell_type": "markdown",
   "id": "a9aa7f93",
   "metadata": {},
   "source": [
    "# Imports"
   ]
  },
  {
   "cell_type": "code",
   "execution_count": 1,
   "id": "74ead295",
   "metadata": {},
   "outputs": [],
   "source": [
    "import pandas as pd\n",
    "import numpy as np\n",
    "import geopandas as gpd\n",
    "import folium\n",
    "from shapely.ops import unary_union\n",
    "import matplotlib.pyplot as plt\n",
    "from shapely import wkt"
   ]
  },
  {
   "cell_type": "markdown",
   "id": "9806a9d4",
   "metadata": {},
   "source": [
    "# Constants"
   ]
  },
  {
   "cell_type": "code",
   "execution_count": 2,
   "id": "58e08abc",
   "metadata": {},
   "outputs": [],
   "source": [
    "CRS = 4326\n",
    "COLORS = {\n",
    "    'green': '#83bca9',\n",
    "    'darkgreen': '#3e5641'\n",
    "}"
   ]
  },
  {
   "cell_type": "markdown",
   "id": "06b729d7",
   "metadata": {},
   "source": [
    "## Load in USA Parks data"
   ]
  },
  {
   "cell_type": "code",
   "execution_count": 5,
   "id": "8771fe3c",
   "metadata": {},
   "outputs": [],
   "source": [
    "usa_parks = gpd.read_file(\"../data/USA_Parks/v10/park_dtl.gdb/\")\n",
    "usa_parks = usa_parks.to_crs(epsg=CRS) # convert to const CRS value (4326)"
   ]
  },
  {
   "cell_type": "markdown",
   "id": "58af898f",
   "metadata": {},
   "source": [
    "## Load US State Boundaries"
   ]
  },
  {
   "cell_type": "code",
   "execution_count": 7,
   "id": "4d05aa91",
   "metadata": {},
   "outputs": [],
   "source": [
    "us_states = pd.read_csv(\"../data/United_States_Boundary_Files.csv\")\n",
    "us_states['geometry'] = us_states['the_geom'].apply(wkt.loads) # create geometry column with safety\n",
    "us_states_gdf = gpd.GeoDataFrame(us_states, crs = CRS) # convert to GeoPd DF with const CRS value (4326)"
   ]
  },
  {
   "cell_type": "markdown",
   "id": "6d25840b",
   "metadata": {},
   "source": [
    "### Find parks only in or bordering TN"
   ]
  },
  {
   "cell_type": "code",
   "execution_count": 1,
   "id": "fa200fa9",
   "metadata": {},
   "outputs": [
    {
     "ename": "NameError",
     "evalue": "name 'usa_parks' is not defined",
     "output_type": "error",
     "traceback": [
      "\u001b[1;31m---------------------------------------------------------------------------\u001b[0m",
      "\u001b[1;31mNameError\u001b[0m                                 Traceback (most recent call last)",
      "Cell \u001b[1;32mIn[1], line 1\u001b[0m\n\u001b[1;32m----> 1\u001b[0m tn_parks \u001b[38;5;241m=\u001b[39m \u001b[43musa_parks\u001b[49m\u001b[38;5;241m.\u001b[39msjoin(\n\u001b[0;32m      2\u001b[0m                      us_states_gdf\u001b[38;5;241m.\u001b[39mloc[us_states_gdf[\u001b[38;5;124m'\u001b[39m\u001b[38;5;124mSTUSPS\u001b[39m\u001b[38;5;124m'\u001b[39m] \u001b[38;5;241m==\u001b[39m \u001b[38;5;124m'\u001b[39m\u001b[38;5;124mTN\u001b[39m\u001b[38;5;124m'\u001b[39m],\n\u001b[0;32m      3\u001b[0m                      predicate \u001b[38;5;241m=\u001b[39m \u001b[38;5;124m'\u001b[39m\u001b[38;5;124mintersects\u001b[39m\u001b[38;5;124m'\u001b[39m)\n\u001b[0;32m      4\u001b[0m \u001b[38;5;66;03m# Clean up columns and only keep the needed columns\u001b[39;00m\n\u001b[0;32m      5\u001b[0m tn_parks[\u001b[38;5;124m'\u001b[39m\u001b[38;5;124mname\u001b[39m\u001b[38;5;124m'\u001b[39m] \u001b[38;5;241m=\u001b[39m tn_parks[\u001b[38;5;124m'\u001b[39m\u001b[38;5;124mNAME_left\u001b[39m\u001b[38;5;124m'\u001b[39m]\n",
      "\u001b[1;31mNameError\u001b[0m: name 'usa_parks' is not defined"
     ]
    }
   ],
   "source": [
    "tn_parks = usa_parks.sjoin( # sjoin to find the parks that 'intersect' or are in and on the border of TN\n",
    "                     us_states_gdf.loc[us_states_gdf['STUSPS'] == 'TN'],\n",
    "                     predicate = 'intersects')\n",
    "\n",
    "tn_parks['name'] = tn_parks['NAME_left'] # rename name column\n",
    "tn_parks = tn_parks[['name', 'FEATTYPE', 'SQMI', 'geometry']] # keep only neccessary columns"
   ]
  },
  {
   "cell_type": "markdown",
   "id": "67affef5",
   "metadata": {},
   "source": [
    "# Create a map of the TN parks"
   ]
  },
  {
   "cell_type": "code",
   "execution_count": 26,
   "id": "73792bab",
   "metadata": {},
   "outputs": [],
   "source": [
    "# tn_map = folium.Map(tiles = \"Cartodb Positron\",\n",
    "#                      location = (36, -86.1),\n",
    "#                      zoom_start = 7,\n",
    "#                      prefer_canvas=True)"
   ]
  },
  {
   "cell_type": "code",
   "execution_count": 28,
   "id": "41c71e05",
   "metadata": {},
   "outputs": [],
   "source": [
    "# add feature group\n",
    "# tn_layer = folium.FeatureGroup(name = 'Tennessee Parks', show = True)\n",
    "\n",
    "# for i, park in tn_parks.iterrows():    # iterate throug rows of TN parks GeoDF\n",
    "#     textbox = folium.Popup(\n",
    "#             park['name']\n",
    "#     )\n",
    "    \n",
    "#     folium.GeoJson(\n",
    "#             park['geometry'],\n",
    "#             popup = textbox,\n",
    "#             style_function=lambda x: {\"fillColor\": c['green'],\n",
    "#                                                                  'color':COLORS['darkgreen'],\n",
    "#                                                                 'weight': 0.5}).add_to(tn_layer)\n",
    "\n",
    "# tn_layer.add_to(tn_map)\n",
    "# folium.LayerControl().add_to(tn_map)"
   ]
  },
  {
   "cell_type": "markdown",
   "id": "127f155a",
   "metadata": {},
   "source": [
    "# Load in Places Data"
   ]
  },
  {
   "cell_type": "code",
   "execution_count": 13,
   "id": "e4165c7e",
   "metadata": {},
   "outputs": [],
   "source": [
    "places_df = pd.read_csv('../data/PLACES__Local_Data_for_Better_Health__Place_Data_2023_release_20240504.csv')\n",
    "# places_tact = pd.read_csv('../data/PLACES__Local_Data_for_Better_Health__Census_Tract_Data_2023_release_20240504.csv')\n",
    "# data_dict = pd.read_csv('../data/PLACES_and_500_Cities__Data_Dictionary_20240504.csv')"
   ]
  },
  {
   "cell_type": "markdown",
   "id": "76a9b503",
   "metadata": {},
   "source": [
    "#### Create places geopandas DF "
   ]
  },
  {
   "cell_type": "code",
   "execution_count": 14,
   "id": "6765f731",
   "metadata": {},
   "outputs": [],
   "source": [
    "places_df['geometry'] = places_df['Geolocation'].apply(wkt.loads) # create geometry column with safety\n",
    "places_gdf = gpd.GeoDataFrame(places_df, crs = CRS) # convert to GeoPd DF with const CRS value (4326)"
   ]
  },
  {
   "cell_type": "markdown",
   "id": "7342ffe2",
   "metadata": {},
   "source": [
    "### Find Places data only in TN and filter out unneccessary columns"
   ]
  },
  {
   "cell_type": "code",
   "execution_count": 15,
   "id": "da042ff1",
   "metadata": {},
   "outputs": [],
   "source": [
    "tn_places = places_gdf.loc[places_gdf['StateAbbr'] == 'TN'][['Year', 'StateAbbr',\n",
    "                                                             'Category', 'Measure',\n",
    "                                                             'Data_Value', 'TotalPopulation',\n",
    "                                                            'geometry', 'LocationID', 'MeasureId']]"
   ]
  },
  {
   "cell_type": "markdown",
   "id": "7a345af8",
   "metadata": {},
   "source": [
    "####  Find the min distance between each Health data point and the nearest park. Save as CSV"
   ]
  },
  {
   "cell_type": "code",
   "execution_count": 16,
   "id": "914adc66",
   "metadata": {},
   "outputs": [],
   "source": [
    "# tn_health_loc = tn_places[['LocationID', 'geometry']] # create smaller Df to iterate through\n",
    "# tn_parks_loc = tn_parks[['name', 'geometry']] # create smaller Df to iterate through"
   ]
  },
  {
   "cell_type": "code",
   "execution_count": 31,
   "id": "17d64f26",
   "metadata": {},
   "outputs": [],
   "source": [
    "# min_dist = [] # empty list to hold the min distances to create a new column out of\n",
    "# for i, r_health in tn_health_loc.iterrows(): # iterate through each row of the TN health data points\n",
    "#     distances = [] # create empty list to hold the distnace from the \n",
    "#                    # health point and each state park boundary\n",
    "#     for idx, r_park in tn_parks_loc.iterrows(): # iterate though each row of the TN parks data\n",
    "#         distances.append(r_health['geometry'].distance(r_park['geometry'])) # add the distance from \n",
    "#                                                                             # the health point top\n",
    "#                                                                             # each park to the list\n",
    "#     min_dist.append(np.min(distances)) # find the distance from the health point to the nearest park\n",
    "\n",
    "# tn_health_loc['distance'] = min_dist # create new column in the TN health points DF\n",
    "# tn_health_loc.to_csv('../data/TN_health_data_with_distances_to_parks.csv') # save as csv for future recals"
   ]
  },
  {
   "cell_type": "markdown",
   "id": "abe09dd6",
   "metadata": {},
   "source": [
    "#### Measures to Focus on"
   ]
  },
  {
   "cell_type": "code",
   "execution_count": 152,
   "id": "aae45473",
   "metadata": {},
   "outputs": [],
   "source": [
    "# list of measures to focus on\n",
    "measures = ['Cancer (excluding skin cancer) among adults aged >=18 years',\n",
    "           'Cholesterol screening among adults aged >=18 years',\n",
    "           'Coronary heart disease among adults aged >=18 years',\n",
    "           'Current asthma among adults aged >=18 years',\n",
    "           'Current lack of health insurance among adults aged 18-64 years',\n",
    "           'Depression among adults aged >=18 years',\n",
    "           'Diagnosed diabetes among adults aged >=18 years',\n",
    "           'Fair or poor self-rated health status among adults aged >=18 years',\n",
    "           'High blood pressure among adults aged >=18 years',\n",
    "           'Obesity among adults aged >=18 years',\n",
    "           'Stroke among adults aged >=18 years']"
   ]
  },
  {
   "cell_type": "markdown",
   "id": "cdfadd87",
   "metadata": {},
   "source": [
    "#### Filter the DF by measures"
   ]
  },
  {
   "cell_type": "code",
   "execution_count": null,
   "id": "98931e94",
   "metadata": {},
   "outputs": [],
   "source": [
    "places_filtered = places_df.loc[places_df['Measure'].isin(measures)]"
   ]
  }
 ],
 "metadata": {
  "kernelspec": {
   "display_name": "Python [conda env:us_parks_health]",
   "language": "python",
   "name": "conda-env-us_parks_health-py"
  },
  "language_info": {
   "codemirror_mode": {
    "name": "ipython",
    "version": 3
   },
   "file_extension": ".py",
   "mimetype": "text/x-python",
   "name": "python",
   "nbconvert_exporter": "python",
   "pygments_lexer": "ipython3",
   "version": "3.10.14"
  }
 },
 "nbformat": 4,
 "nbformat_minor": 5
}
