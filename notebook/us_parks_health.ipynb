{
 "cells": [
  {
   "cell_type": "markdown",
   "id": "a9aa7f93",
   "metadata": {},
   "source": [
    "# Imports"
   ]
  },
  {
   "cell_type": "code",
   "execution_count": 1,
   "id": "74ead295",
   "metadata": {},
   "outputs": [],
   "source": [
    "import pandas as pd\n",
    "import numpy as np\n",
    "import geopandas as gpd\n",
    "import folium\n",
    "from shapely.ops import unary_union\n",
    "import matplotlib.pyplot as plt\n",
    "from shapely import wkt"
   ]
  },
  {
   "cell_type": "markdown",
   "id": "9806a9d4",
   "metadata": {},
   "source": [
    "# Constants"
   ]
  },
  {
   "cell_type": "code",
   "execution_count": 2,
   "id": "58e08abc",
   "metadata": {},
   "outputs": [],
   "source": [
    "CRS = 4326"
   ]
  },
  {
   "cell_type": "markdown",
   "id": "9171ce67",
   "metadata": {},
   "source": [
    "### Color Pallete"
   ]
  },
  {
   "cell_type": "code",
   "execution_count": 3,
   "id": "26abe7d0",
   "metadata": {},
   "outputs": [],
   "source": [
    "c = {\n",
    "    'green': '#83bca9',\n",
    "    'darkgreen': '#3e5641'\n",
    "}"
   ]
  },
  {
   "cell_type": "markdown",
   "id": "06b729d7",
   "metadata": {},
   "source": [
    "## Load in USA Parks data"
   ]
  },
  {
   "cell_type": "code",
   "execution_count": 5,
   "id": "8771fe3c",
   "metadata": {},
   "outputs": [],
   "source": [
    "usa_parks = gpd.read_file(\"../data/USA_Parks/v10/park_dtl.gdb/\")"
   ]
  },
  {
   "cell_type": "code",
   "execution_count": 6,
   "id": "6f08a405",
   "metadata": {},
   "outputs": [],
   "source": [
    "usa_parks = usa_parks.to_crs(epsg=CRS)"
   ]
  },
  {
   "cell_type": "markdown",
   "id": "58af898f",
   "metadata": {},
   "source": [
    "# Load US States Boundaries"
   ]
  },
  {
   "cell_type": "code",
   "execution_count": 7,
   "id": "4d05aa91",
   "metadata": {},
   "outputs": [],
   "source": [
    "us_states = pd.read_csv(\"../data/United_States_Boundary_Files.csv\")"
   ]
  },
  {
   "cell_type": "code",
   "execution_count": 8,
   "id": "9fac0f56",
   "metadata": {},
   "outputs": [],
   "source": [
    "us_states['geometry'] = us_states['the_geom'].apply(wkt.loads)\n",
    "us_states_gdf = gpd.GeoDataFrame(us_states, crs = CRS) "
   ]
  },
  {
   "cell_type": "code",
   "execution_count": 9,
   "id": "fa200fa9",
   "metadata": {},
   "outputs": [],
   "source": [
    "tn_parks = usa_parks.sjoin(\n",
    "                     us_states_gdf.loc[us_states_gdf['STUSPS'] == 'TN'],\n",
    "                     predicate = 'intersects')"
   ]
  },
  {
   "cell_type": "code",
   "execution_count": 10,
   "id": "8d2dddd9",
   "metadata": {},
   "outputs": [],
   "source": [
    "tn_parks['name'] = tn_parks['NAME_left']"
   ]
  },
  {
   "cell_type": "code",
   "execution_count": 11,
   "id": "db789162",
   "metadata": {},
   "outputs": [],
   "source": [
    "tn_parks = tn_parks[['name', 'FEATTYPE', 'SQMI', 'geometry']]"
   ]
  },
  {
   "cell_type": "code",
   "execution_count": 26,
   "id": "73792bab",
   "metadata": {},
   "outputs": [],
   "source": [
    "# TN Map\n",
    "# tn_map = folium.Map(tiles = \"Cartodb Positron\",\n",
    "#                      location = (36, -86.1),\n",
    "#                      zoom_start = 7,\n",
    "#                      prefer_canvas=True)"
   ]
  },
  {
   "cell_type": "code",
   "execution_count": 27,
   "id": "a94fe1d2",
   "metadata": {},
   "outputs": [],
   "source": [
    "# add feature groups\n",
    "# tn_layer = folium.FeatureGroup(name = 'Tennessee Parks', show = True)\n",
    "# tn_health = folium.FeatureGroup(name = 'Tennessee Health', show = True)"
   ]
  },
  {
   "cell_type": "code",
   "execution_count": 28,
   "id": "41c71e05",
   "metadata": {},
   "outputs": [],
   "source": [
    "# for i, park in tn_parks.iterrows():\n",
    "#     textbox = folium.Popup(\n",
    "#             park['name']\n",
    "#     )\n",
    "    \n",
    "#     folium.GeoJson(\n",
    "#             park['geometry'],\n",
    "#             popup = textbox,\n",
    "#             style_function=lambda x: {\"fillColor\": c['green'],\n",
    "#                                                                  'color':c['darkgreen'],\n",
    "#                                                                 'weight': 0.5}).add_to(tn_layer)\n",
    "                  "
   ]
  },
  {
   "cell_type": "code",
   "execution_count": 29,
   "id": "c76b5e4f",
   "metadata": {},
   "outputs": [],
   "source": [
    "# folium.GeoJson(tn_parks, style_function=lambda x: {\"fillColor\": c['green'],\n",
    "#                                                                  'color':c['darkgreen'],\n",
    "#                                                                 'weight': 0.5}).add_to(tn_map)"
   ]
  },
  {
   "cell_type": "code",
   "execution_count": 30,
   "id": "ab22fc15",
   "metadata": {},
   "outputs": [],
   "source": [
    "# tn_layer.add_to(tn_map)\n",
    "# folium.LayerControl().add_to(tn_map)"
   ]
  },
  {
   "cell_type": "code",
   "execution_count": 25,
   "id": "cbf5101e",
   "metadata": {},
   "outputs": [],
   "source": [
    "# tn_map"
   ]
  },
  {
   "cell_type": "markdown",
   "id": "127f155a",
   "metadata": {},
   "source": [
    "## Load in Places Data"
   ]
  },
  {
   "cell_type": "code",
   "execution_count": 13,
   "id": "e4165c7e",
   "metadata": {},
   "outputs": [],
   "source": [
    "places_df = pd.read_csv('../data/PLACES__Local_Data_for_Better_Health__Place_Data_2023_release_20240504.csv')"
   ]
  },
  {
   "cell_type": "code",
   "execution_count": 21,
   "id": "c5956964",
   "metadata": {},
   "outputs": [],
   "source": [
    "# places_tact = pd.read_csv('../data/PLACES__Local_Data_for_Better_Health__Census_Tract_Data_2023_release_20240504.csv')"
   ]
  },
  {
   "cell_type": "code",
   "execution_count": 52,
   "id": "e85da4ba",
   "metadata": {},
   "outputs": [],
   "source": [
    "# data_dict = pd.read_csv('../data/PLACES_and_500_Cities__Data_Dictionary_20240504.csv')"
   ]
  },
  {
   "cell_type": "markdown",
   "id": "76a9b503",
   "metadata": {},
   "source": [
    "#### Create places geopandas DF "
   ]
  },
  {
   "cell_type": "code",
   "execution_count": 14,
   "id": "6765f731",
   "metadata": {},
   "outputs": [],
   "source": [
    "places_df['geometry'] = places_df['Geolocation'].apply(wkt.loads)\n",
    "places_gdf = gpd.GeoDataFrame(places_df, crs = CRS) "
   ]
  },
  {
   "cell_type": "markdown",
   "id": "7342ffe2",
   "metadata": {},
   "source": [
    "## find TN Places data"
   ]
  },
  {
   "cell_type": "code",
   "execution_count": 15,
   "id": "da042ff1",
   "metadata": {},
   "outputs": [],
   "source": [
    "tn_places = places_gdf.loc[places_gdf['StateAbbr'] == 'TN'][['Year', 'StateAbbr',\n",
    "                                                             'Category', 'Measure',\n",
    "                                                             'Data_Value', 'TotalPopulation',\n",
    "                                                            'geometry', 'LocationID', 'MeasureId']]"
   ]
  },
  {
   "cell_type": "markdown",
   "id": "7a345af8",
   "metadata": {},
   "source": [
    "####  Find the min distance between each Health data point and the nearest park. Save as CSV"
   ]
  },
  {
   "cell_type": "code",
   "execution_count": 16,
   "id": "914adc66",
   "metadata": {},
   "outputs": [],
   "source": [
    "tn_health_loc = tn_places[['LocationID', 'geometry']]\n",
    "tn_parks_loc = tn_parks[['name', 'geometry']]"
   ]
  },
  {
   "cell_type": "code",
   "execution_count": 31,
   "id": "17d64f26",
   "metadata": {},
   "outputs": [],
   "source": [
    "# min_dist = []\n",
    "# for i, r_health in tn_health_loc.iterrows():\n",
    "#     distances = []\n",
    "#     for idx, r_park in tn_parks_loc.iterrows():\n",
    "#         distances.append(r_health['geometry'].distance(r_park['geometry']))\n",
    "#     min_dist.append(np.min(distances))"
   ]
  },
  {
   "cell_type": "code",
   "execution_count": 32,
   "id": "bad5322c",
   "metadata": {},
   "outputs": [],
   "source": [
    "# tn_health_loc['distance'] = min_dist"
   ]
  },
  {
   "cell_type": "code",
   "execution_count": 33,
   "id": "b59af2b3",
   "metadata": {},
   "outputs": [],
   "source": [
    "# tn_health_loc.to_csv('../data/TN_health_data_with_distances_to_parks.csv')"
   ]
  },
  {
   "cell_type": "markdown",
   "id": "abe09dd6",
   "metadata": {},
   "source": [
    "#### Measures to Focus on"
   ]
  },
  {
   "cell_type": "code",
   "execution_count": 152,
   "id": "aae45473",
   "metadata": {},
   "outputs": [],
   "source": [
    "measures = ['Cancer (excluding skin cancer) among adults aged >=18 years',\n",
    "           'Cholesterol screening among adults aged >=18 years',\n",
    "           'Coronary heart disease among adults aged >=18 years',\n",
    "           'Current asthma among adults aged >=18 years',\n",
    "           'Current lack of health insurance among adults aged 18-64 years',\n",
    "           'Depression among adults aged >=18 years',\n",
    "           'Diagnosed diabetes among adults aged >=18 years',\n",
    "           'Fair or poor self-rated health status among adults aged >=18 years',\n",
    "           'High blood pressure among adults aged >=18 years',\n",
    "           'Obesity among adults aged >=18 years',\n",
    "           'Stroke among adults aged >=18 years']"
   ]
  },
  {
   "cell_type": "markdown",
   "id": "cdfadd87",
   "metadata": {},
   "source": [
    "#### Filter the DF by measures"
   ]
  },
  {
   "cell_type": "markdown",
   "id": "53c883f4",
   "metadata": {},
   "source": [
    "#### test"
   ]
  },
  {
   "cell_type": "code",
   "execution_count": null,
   "id": "98931e94",
   "metadata": {},
   "outputs": [],
   "source": [
    "places_filtered = places_df.loc[places_df['Measure'].isin(measures)]"
   ]
  }
 ],
 "metadata": {
  "kernelspec": {
   "display_name": "Python [conda env:us_parks_health]",
   "language": "python",
   "name": "conda-env-us_parks_health-py"
  },
  "language_info": {
   "codemirror_mode": {
    "name": "ipython",
    "version": 3
   },
   "file_extension": ".py",
   "mimetype": "text/x-python",
   "name": "python",
   "nbconvert_exporter": "python",
   "pygments_lexer": "ipython3",
   "version": "3.10.14"
  }
 },
 "nbformat": 4,
 "nbformat_minor": 5
}
