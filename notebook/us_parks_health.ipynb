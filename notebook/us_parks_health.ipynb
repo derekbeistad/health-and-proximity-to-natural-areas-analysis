{
 "cells": [
  {
   "cell_type": "markdown",
   "id": "a9aa7f93",
   "metadata": {},
   "source": [
    "# Imports"
   ]
  },
  {
   "cell_type": "code",
   "execution_count": 1,
   "id": "74ead295",
   "metadata": {},
   "outputs": [],
   "source": [
    "import pandas as pd\n",
    "import numpy as np\n",
    "import geopandas as gpd\n",
    "import folium\n",
    "from shapely.ops import unary_union\n",
    "import matplotlib.pyplot as plt\n",
    "from shapely import wkt"
   ]
  },
  {
   "cell_type": "markdown",
   "id": "9806a9d4",
   "metadata": {},
   "source": [
    "# Constants"
   ]
  },
  {
   "cell_type": "code",
   "execution_count": 2,
   "id": "58e08abc",
   "metadata": {},
   "outputs": [],
   "source": [
    "CRS = 4326\n",
    "CRS_METERS = 32616\n",
    "COLORS = {\n",
    "    'green': '#83bca9',\n",
    "    'darkgreen': '#3e5641',\n",
    "    'lightgreen': '#5dd39e',\n",
    "    'yellow': '#bce784',\n",
    "    'red': '#a24936'\n",
    "}"
   ]
  },
  {
   "cell_type": "markdown",
   "id": "06b729d7",
   "metadata": {},
   "source": [
    "## Load in USA Parks data"
   ]
  },
  {
   "cell_type": "code",
   "execution_count": 3,
   "id": "8771fe3c",
   "metadata": {},
   "outputs": [],
   "source": [
    "usa_parks = gpd.read_file(\"../data/USA_Parks/v10/park_dtl.gdb/\")\n",
    "usa_parks = usa_parks.to_crs(epsg=CRS) # convert to const CRS value (32616)"
   ]
  },
  {
   "cell_type": "markdown",
   "id": "58af898f",
   "metadata": {},
   "source": [
    "## Load US State Boundaries"
   ]
  },
  {
   "cell_type": "code",
   "execution_count": 4,
   "id": "4d05aa91",
   "metadata": {},
   "outputs": [],
   "source": [
    "us_states = pd.read_csv(\"../data/United_States_Boundary_Files.csv\")\n",
    "us_states['geometry'] = us_states['the_geom'].apply(wkt.loads) # create geometry column with safety\n",
    "us_states_gdf = gpd.GeoDataFrame(us_states, crs = CRS) # convert to GeoPd DF with const CRS value (4326)"
   ]
  },
  {
   "cell_type": "code",
   "execution_count": 5,
   "id": "2ab98e28",
   "metadata": {},
   "outputs": [],
   "source": [
    "# us_states_gdf.loc[us_states_gdf['STUSPS'] == 'TN'].to_file('../data/tn_state_border.geojson', driver='GeoJSON')"
   ]
  },
  {
   "cell_type": "markdown",
   "id": "6d25840b",
   "metadata": {},
   "source": [
    "### Find parks only in or bordering TN"
   ]
  },
  {
   "cell_type": "code",
   "execution_count": 6,
   "id": "fa200fa9",
   "metadata": {},
   "outputs": [],
   "source": [
    "tn_parks = gpd.sjoin(usa_parks, # sjoin to find the parks that 'intersect' or are in and on the border of TN\n",
    "                     us_states_gdf.loc[us_states_gdf['STUSPS'] == 'TN'],\n",
    "                     predicate = 'intersects')\n",
    "\n",
    "tn_parks['name'] = tn_parks['NAME_left'] # rename name column\n",
    "tn_parks = tn_parks[['name', 'FEATTYPE', 'SQMI', 'geometry']] # keep only neccessary columns"
   ]
  },
  {
   "cell_type": "code",
   "execution_count": 7,
   "id": "c85d7be4",
   "metadata": {},
   "outputs": [],
   "source": [
    "# tn_parks.to_file('../data/tn_parks.geojson', driver='GeoJSON')"
   ]
  },
  {
   "cell_type": "code",
   "execution_count": 8,
   "id": "5f64fa82",
   "metadata": {},
   "outputs": [],
   "source": [
    "# tn_parks.shape[0]"
   ]
  },
  {
   "cell_type": "markdown",
   "id": "e021d941",
   "metadata": {},
   "source": [
    "#### 722 State and National Parks in (or bordering) Tennessee."
   ]
  },
  {
   "cell_type": "code",
   "execution_count": 9,
   "id": "174303c7",
   "metadata": {},
   "outputs": [],
   "source": [
    "# tn_parks['FEATTYPE'].unique()"
   ]
  },
  {
   "cell_type": "markdown",
   "id": "c5f4f2a6",
   "metadata": {},
   "source": [
    "#### Types of Parks (5): Local park, State park or forest, County park, Regional park, National park or forest"
   ]
  },
  {
   "cell_type": "code",
   "execution_count": 10,
   "id": "479f8cfb",
   "metadata": {},
   "outputs": [],
   "source": [
    "# tn_parks.groupby('FEATTYPE')['name'].count()"
   ]
  },
  {
   "cell_type": "code",
   "execution_count": 11,
   "id": "d1c47b62",
   "metadata": {},
   "outputs": [],
   "source": [
    "# tn_parks.groupby('FEATTYPE')['SQMI'].median()"
   ]
  },
  {
   "cell_type": "markdown",
   "id": "e71b14fe",
   "metadata": {},
   "source": [
    "### Median Square Mile by Type\n",
    "#### County park                 0.055\n",
    "#### Local park                  0.030\n",
    "#### National park or forest    36.180\n",
    "#### Regional park               6.500\n",
    "#### State park or forest        1.710"
   ]
  },
  {
   "cell_type": "markdown",
   "id": "591a15a7",
   "metadata": {},
   "source": [
    "### Number of Parks by type\n",
    "#### County park                 18\n",
    "#### Local park                 571\n",
    "#### National park or forest     28\n",
    "#### Regional park               32\n",
    "#### State park or forest        73"
   ]
  },
  {
   "cell_type": "markdown",
   "id": "127f155a",
   "metadata": {},
   "source": [
    "# Load in Places Data"
   ]
  },
  {
   "cell_type": "code",
   "execution_count": 12,
   "id": "e4165c7e",
   "metadata": {},
   "outputs": [],
   "source": [
    "places_df = pd.read_csv('../data/PLACES__Local_Data_for_Better_Health__Place_Data_2023_release_20240504.csv')\n",
    "# data_dict = pd.read_csv('../data/PLACES_and_500_Cities__Data_Dictionary_20240504.csv')"
   ]
  },
  {
   "cell_type": "markdown",
   "id": "76a9b503",
   "metadata": {},
   "source": [
    "#### Create places geopandas DF "
   ]
  },
  {
   "cell_type": "code",
   "execution_count": 13,
   "id": "6765f731",
   "metadata": {},
   "outputs": [],
   "source": [
    "places_df['geometry'] = places_df['Geolocation'].apply(wkt.loads) # create geometry column with safety\n",
    "places_gdf = gpd.GeoDataFrame(places_df, crs = CRS) # convert to GeoPd DF with const CRS value (4326)"
   ]
  },
  {
   "cell_type": "markdown",
   "id": "7342ffe2",
   "metadata": {},
   "source": [
    "### Find Places data only in TN and filter out unneccessary columns"
   ]
  },
  {
   "cell_type": "code",
   "execution_count": 14,
   "id": "da042ff1",
   "metadata": {},
   "outputs": [],
   "source": [
    "tn_places = places_gdf.loc[places_gdf['StateAbbr'] == 'TN'][['Year',\n",
    "                                                             'Category', 'Measure',\n",
    "                                                             'Data_Value', 'TotalPopulation',\n",
    "                                                            'geometry', 'LocationID', 'MeasureId']]"
   ]
  },
  {
   "cell_type": "code",
   "execution_count": 15,
   "id": "e42496aa",
   "metadata": {},
   "outputs": [],
   "source": [
    "# tn_places.to_file('../data/tn_health_points.geojson', driver='GeoJSON')"
   ]
  },
  {
   "cell_type": "code",
   "execution_count": 16,
   "id": "aaf93319",
   "metadata": {},
   "outputs": [],
   "source": [
    "# tn_places['Year'].agg(['min', 'max'])"
   ]
  },
  {
   "cell_type": "markdown",
   "id": "1d481956",
   "metadata": {},
   "source": [
    "#### years 2020, 2021"
   ]
  },
  {
   "cell_type": "code",
   "execution_count": 17,
   "id": "42159df1",
   "metadata": {},
   "outputs": [],
   "source": [
    "# tn_places.shape"
   ]
  },
  {
   "cell_type": "markdown",
   "id": "412097fa",
   "metadata": {},
   "source": [
    "#### 31,746 entries"
   ]
  },
  {
   "cell_type": "code",
   "execution_count": 18,
   "id": "4535c48b",
   "metadata": {},
   "outputs": [],
   "source": [
    "# tn_places['LocationID'].nunique()"
   ]
  },
  {
   "cell_type": "markdown",
   "id": "0ebe657a",
   "metadata": {},
   "source": [
    "#### 429 different locations"
   ]
  },
  {
   "cell_type": "markdown",
   "id": "7a345af8",
   "metadata": {},
   "source": [
    "####  Find the min distance between each Health data point and the nearest park. Save as CSV"
   ]
  },
  {
   "cell_type": "code",
   "execution_count": 19,
   "id": "914adc66",
   "metadata": {},
   "outputs": [],
   "source": [
    "# reproject to get distances in meters\n",
    "# tn_health_loc = tn_places[['LocationID', 'geometry']].to_crs(epsg=CRS_METERS) # create smaller Df to iterate through\n",
    "# tn_parks_loc = tn_parks[['name', 'geometry']].to_crs(epsg=CRS_METERS) # create smaller Df to iterate through"
   ]
  },
  {
   "cell_type": "code",
   "execution_count": 20,
   "id": "17d64f26",
   "metadata": {},
   "outputs": [],
   "source": [
    "# min_dist = [] # empty list to hold the min distances to create a new column out of\n",
    "# for i, r_health in tn_health_loc.iterrows(): # iterate through each row of the TN health data points\n",
    "#     distances = [] # create empty list to hold the distnace from the \n",
    "#                    # health point and each state park boundary\n",
    "#     for idx, r_park in tn_parks_loc.iterrows(): # iterate though each row of the TN parks data\n",
    "#         distances.append(r_health['geometry'].distance(r_park['geometry'])) # add the distance from \n",
    "#                                                                             # the health point top\n",
    "#                                                                             # each park to the list\n",
    "#     min_dist.append(np.min(distances)) # find the distance from the health point to the nearest park\n",
    "\n",
    "# tn_health_loc['distance'] = min_dist # create new column in the TN health points DF\n",
    "# tn_health_loc.to_csv('../data/TN_health_data_with_distances_to_parks.csv') # save as csv for future recals"
   ]
  },
  {
   "cell_type": "markdown",
   "id": "4528033c",
   "metadata": {},
   "source": [
    "# Load in TN Helath Distances CSV"
   ]
  },
  {
   "cell_type": "code",
   "execution_count": 21,
   "id": "e8fdb4b5",
   "metadata": {},
   "outputs": [],
   "source": [
    "tn_health_distances = pd.read_csv('../data/TN_health_data_with_distances_to_parks.csv')"
   ]
  },
  {
   "cell_type": "code",
   "execution_count": 22,
   "id": "79f7571a",
   "metadata": {},
   "outputs": [],
   "source": [
    "tn_places = tn_places.to_crs(epsg=CRS_METERS)\n",
    "tn_places_distances = tn_places.merge(right = tn_health_distances[['LocationID', 'distance']], on='LocationID', how='inner')"
   ]
  },
  {
   "cell_type": "markdown",
   "id": "abe09dd6",
   "metadata": {},
   "source": [
    "#### Measures to Focus on"
   ]
  },
  {
   "cell_type": "code",
   "execution_count": 23,
   "id": "aae45473",
   "metadata": {},
   "outputs": [],
   "source": [
    "# list of measures to focus on\n",
    "measures = ['CHD',\n",
    "           'CASTHMA',\n",
    "           'ACCESS2',\n",
    "           'DEPRESSION',\n",
    "           'DIABETES',\n",
    "           'BPHIGH',\n",
    "           'OBESITY',\n",
    "           'STROKE']"
   ]
  },
  {
   "cell_type": "markdown",
   "id": "cdfadd87",
   "metadata": {},
   "source": [
    "#### Filter the DF by measures"
   ]
  },
  {
   "cell_type": "code",
   "execution_count": 24,
   "id": "98931e94",
   "metadata": {},
   "outputs": [],
   "source": [
    "tn_places_distances = tn_places_distances.loc[tn_places_distances['MeasureId'].isin(measures)]"
   ]
  },
  {
   "cell_type": "code",
   "execution_count": 25,
   "id": "aadec63b",
   "metadata": {},
   "outputs": [],
   "source": [
    "# tn_places_distances.to_csv('../data/TN_Health_data_cleaned.csv')"
   ]
  },
  {
   "cell_type": "code",
   "execution_count": 26,
   "id": "0f72979e",
   "metadata": {},
   "outputs": [],
   "source": [
    "# tn_places_distances['Measure'].unique()"
   ]
  },
  {
   "cell_type": "markdown",
   "id": "44f94da8",
   "metadata": {},
   "source": [
    "#### 8 different measures"
   ]
  },
  {
   "cell_type": "markdown",
   "id": "ea496124",
   "metadata": {},
   "source": [
    "#### 'STROKE', 'OBESITY', 'CASTHMA', 'DEPRESSION', 'ACCESS2', 'DIABETES', 'BPHIGH', 'CHD'"
   ]
  },
  {
   "cell_type": "markdown",
   "id": "df4408bb",
   "metadata": {},
   "source": [
    "#### 'Stroke among adults aged >=18 years',\n",
    "#### 'Obesity among adults aged >=18 years',\n",
    "#### 'Current asthma among adults aged >=18 years',\n",
    "#### 'Depression among adults aged >=18 years',\n",
    "#### 'Current lack of health insurance among adults aged 18-64 years',\n",
    "#### 'Diagnosed diabetes among adults aged >=18 years',\n",
    "#### 'High blood pressure among adults aged >=18 years',\n",
    "#### 'Coronary heart disease among adults aged >=18 years'"
   ]
  },
  {
   "cell_type": "code",
   "execution_count": 27,
   "id": "567ee9dc",
   "metadata": {},
   "outputs": [
    {
     "data": {
      "text/plain": [
       "min           0.000000\n",
       "max       52456.962023\n",
       "median     7253.337776\n",
       "mean       9573.433218\n",
       "Name: distance, dtype: float64"
      ]
     },
     "execution_count": 27,
     "metadata": {},
     "output_type": "execute_result"
    }
   ],
   "source": [
    "tn_places_distances['distance'].agg(['min', 'max', 'median', 'mean'])"
   ]
  },
  {
   "cell_type": "markdown",
   "id": "bf6844d9",
   "metadata": {},
   "source": [
    "### Distance to nearest parks KPIs\n",
    "#### min           0.000000\n",
    "#### max       52456.962023\n",
    "#### median     7253.337776\n",
    "#### mean       9573.433218"
   ]
  },
  {
   "cell_type": "markdown",
   "id": "9565be57",
   "metadata": {},
   "source": [
    "### Use quantile to create distance groups of equal num of  values"
   ]
  },
  {
   "cell_type": "code",
   "execution_count": 28,
   "id": "d9caa7bc",
   "metadata": {},
   "outputs": [],
   "source": [
    "# Coonvert to KM\n",
    "# Calculate the 1/3 and 2/3 quartile marks for distance and round to 2 decimal points\n",
    "breakpoint = [\n",
    "    round(tn_places_distances[['distance']].quantile(1/3).iloc[0] / 1000, 2),\n",
    "    round(tn_places_distances[['distance']].quantile(2/3).iloc[0] / 1000, 2)\n",
    "]\n",
    "# Calculate the 1/6, 1/2, 5/6 quartile marks for distance and round to 2 decimal points\n",
    "sub_break = [\n",
    "    round(tn_places_distances[['distance']].quantile(1/6).iloc[0] / 1000, 2),\n",
    "    round(tn_places_distances[['distance']].quantile(1/2).iloc[0] / 1000, 2),\n",
    "    round(tn_places_distances[['distance']].quantile(5/6).iloc[0] / 1000, 2)\n",
    "]"
   ]
  },
  {
   "cell_type": "code",
   "execution_count": 29,
   "id": "9908297c",
   "metadata": {},
   "outputs": [],
   "source": [
    "def create_q_groups(x):\n",
    "    x = x / 1000\n",
    "    if x <= breakpoint[0]:\n",
    "        return 'close'\n",
    "    elif x <= breakpoint[1]:\n",
    "        return 'medium'\n",
    "    else:\n",
    "        return 'far'\n",
    "    \n",
    "def create_q_subs(x):\n",
    "    x = x / 1000\n",
    "    if x <= sub_break[0]:\n",
    "        return f'0 km - {sub_break[0]} km'\n",
    "    elif x <= breakpoint[0]:\n",
    "        return f'{sub_break[0]} km - {breakpoint[0]} km'\n",
    "    elif x <= sub_break[1]: \n",
    "        return f'{breakpoint[0]} km - {sub_break[1]} km'\n",
    "    elif x <= breakpoint[1]: \n",
    "        return f'{sub_break[1]} km - {breakpoint[1]} km'\n",
    "    elif x <= sub_break[2]: \n",
    "        return f'{breakpoint[1]} km - {sub_break[2]} km'\n",
    "    else:\n",
    "        return f'{sub_break[2]} km +'"
   ]
  },
  {
   "cell_type": "code",
   "execution_count": 30,
   "id": "a86dbd66",
   "metadata": {},
   "outputs": [],
   "source": [
    "tn_places_distances['distance_q_category'] = (tn_places_distances['distance']\n",
    "                                              .apply(lambda r: create_q_groups(r)))\n",
    "tn_places_distances['distance_q_sub'] = (tn_places_distances['distance']\n",
    "                                              .apply(lambda r: create_q_subs(r)))\n",
    "# tn_places_distances.to_csv('../data/TN_Health_data_cleaned.csv')"
   ]
  },
  {
   "cell_type": "code",
   "execution_count": 31,
   "id": "063dea84",
   "metadata": {},
   "outputs": [
    {
     "data": {
      "text/html": [
       "<div>\n",
       "<style scoped>\n",
       "    .dataframe tbody tr th:only-of-type {\n",
       "        vertical-align: middle;\n",
       "    }\n",
       "\n",
       "    .dataframe tbody tr th {\n",
       "        vertical-align: top;\n",
       "    }\n",
       "\n",
       "    .dataframe thead th {\n",
       "        text-align: right;\n",
       "    }\n",
       "</style>\n",
       "<table border=\"1\" class=\"dataframe\">\n",
       "  <thead>\n",
       "    <tr style=\"text-align: right;\">\n",
       "      <th></th>\n",
       "      <th>distance</th>\n",
       "      <th>Data_Value</th>\n",
       "    </tr>\n",
       "  </thead>\n",
       "  <tbody>\n",
       "    <tr>\n",
       "      <th>distance</th>\n",
       "      <td>1.000000</td>\n",
       "      <td>0.177403</td>\n",
       "    </tr>\n",
       "    <tr>\n",
       "      <th>Data_Value</th>\n",
       "      <td>0.177403</td>\n",
       "      <td>1.000000</td>\n",
       "    </tr>\n",
       "  </tbody>\n",
       "</table>\n",
       "</div>"
      ],
      "text/plain": [
       "            distance  Data_Value\n",
       "distance    1.000000    0.177403\n",
       "Data_Value  0.177403    1.000000"
      ]
     },
     "execution_count": 31,
     "metadata": {},
     "output_type": "execute_result"
    }
   ],
   "source": [
    "tn_places_distances.loc[tn_places_distances['MeasureId'] == 'STROKE'][['distance', 'Data_Value']].corr()"
   ]
  },
  {
   "cell_type": "code",
   "execution_count": 32,
   "id": "ea521f8b",
   "metadata": {},
   "outputs": [
    {
     "data": {
      "text/plain": [
       "['CHD',\n",
       " 'CASTHMA',\n",
       " 'ACCESS2',\n",
       " 'DEPRESSION',\n",
       " 'DIABETES',\n",
       " 'BPHIGH',\n",
       " 'OBESITY',\n",
       " 'STROKE']"
      ]
     },
     "execution_count": 32,
     "metadata": {},
     "output_type": "execute_result"
    }
   ],
   "source": [
    "measures"
   ]
  },
  {
   "cell_type": "code",
   "execution_count": 33,
   "id": "e1d00232",
   "metadata": {},
   "outputs": [
    {
     "name": "stdout",
     "output_type": "stream",
     "text": [
      "***\n",
      "CHD\n",
      "            distance  Data_Value\n",
      "distance    1.000000    0.150997\n",
      "Data_Value  0.150997    1.000000\n",
      "***\n",
      "CASTHMA\n",
      "            distance  Data_Value\n",
      "distance    1.000000    0.145498\n",
      "Data_Value  0.145498    1.000000\n",
      "***\n",
      "ACCESS2\n",
      "            distance  Data_Value\n",
      "distance    1.000000    0.208644\n",
      "Data_Value  0.208644    1.000000\n",
      "***\n",
      "DEPRESSION\n",
      "            distance  Data_Value\n",
      "distance    1.000000    0.107262\n",
      "Data_Value  0.107262    1.000000\n",
      "***\n",
      "DIABETES\n",
      "            distance  Data_Value\n",
      "distance    1.000000    0.157399\n",
      "Data_Value  0.157399    1.000000\n",
      "***\n",
      "BPHIGH\n",
      "            distance  Data_Value\n",
      "distance     1.00000     0.16634\n",
      "Data_Value   0.16634     1.00000\n",
      "***\n",
      "OBESITY\n",
      "            distance  Data_Value\n",
      "distance    1.000000    0.111682\n",
      "Data_Value  0.111682    1.000000\n",
      "***\n",
      "STROKE\n",
      "            distance  Data_Value\n",
      "distance    1.000000    0.177403\n",
      "Data_Value  0.177403    1.000000\n"
     ]
    }
   ],
   "source": [
    "for measure in measures:\n",
    "    print('***\\n' + measure)\n",
    "    print(tn_places_distances.loc[tn_places_distances['MeasureId'] == measure][['distance', 'Data_Value']].corr())"
   ]
  },
  {
   "cell_type": "markdown",
   "id": "8de9b158",
   "metadata": {},
   "source": [
    "# Create a map of the TN parks"
   ]
  },
  {
   "cell_type": "code",
   "execution_count": null,
   "id": "2a1c4469",
   "metadata": {},
   "outputs": [],
   "source": [
    "tn_map = folium.Map(tiles = \"Cartodb Positron\",\n",
    "                     location = (36, -86.1),\n",
    "                     zoom_start = 7,\n",
    "                     prefer_canvas=True)"
   ]
  },
  {
   "cell_type": "code",
   "execution_count": null,
   "id": "ad228eb0",
   "metadata": {},
   "outputs": [],
   "source": [
    "# add feature group\n",
    "park_layer = folium.FeatureGroup(name = 'Tennessee Parks', show = True)\n",
    "\n",
    "# simplify boundaries to increase speed\n",
    "tn_parks['geometry'] = tn_parks['geometry'].simplify(tolerance=0.001)\n",
    "\n",
    "# add park boundaries layer\n",
    "for i, park in tn_parks.iterrows():    # iterate through rows of TN parks GeoDF\n",
    "    textbox = folium.Popup(\n",
    "            park['name']\n",
    "    )\n",
    "    \n",
    "    folium.GeoJson(\n",
    "            park['geometry'],\n",
    "#             popup = textbox,\n",
    "            name=park['name']\n",
    "            style_function=lambda x: {\"fillColor\": COLORS['green'],\n",
    "                                      'color':COLORS['darkgreen'],\n",
    "                                      'weight': 0.5}).add_to(tn_layer)\n",
    "park_layer.add_to(tn_map)\n",
    "\n",
    "# Add specific locations layer with MarkerCluster\n",
    "health_layer = folium.FeatureGroup(name='Health Locations')\n",
    "marker_cluster = MarkerCluster().add_to(health_layer)\n",
    "for i, row in specific_locations.iterrows():\n",
    "    folium.Marker(location=[row['latitude'], row['longitude']], \n",
    "                  popup=row['name'],\n",
    "                  icon=folium.Icon(color='blue')).add_to(marker_cluster)\n",
    "locations_layer.add_to(m)\n",
    "\n",
    "# Add layer control to the map\n",
    "folium.LayerControl().add_to(m)\n",
    "\n",
    "# Save the map to an HTML file\n",
    "m.save('map.html')\n",
    "\n",
    "# Display the map in the Jupyter Notebook\n",
    "m\n",
    "\n",
    "tn_layer.add_to(tn_map)\n",
    "folium.LayerControl().add_to(tn_map)"
   ]
  },
  {
   "cell_type": "code",
   "execution_count": null,
   "id": "cad5a728",
   "metadata": {},
   "outputs": [],
   "source": [
    "location_id = tn_places_distances['LocationID'].unique()\n",
    "geom = np.array([])\n",
    "cat = np.array([])\n",
    "for loc in location_id:\n",
    "    for i, row in tn_places_distances.iterrows():\n",
    "        if row['LocationID'] == loc:\n",
    "            np.append(geom, tn_places_distances['geometry'])\n",
    "            np.append(cat, tn_places_distances['distance_q_category'])\n",
    "            break"
   ]
  }
 ],
 "metadata": {
  "kernelspec": {
   "display_name": "Python [conda env:us_parks_health]",
   "language": "python",
   "name": "conda-env-us_parks_health-py"
  },
  "language_info": {
   "codemirror_mode": {
    "name": "ipython",
    "version": 3
   },
   "file_extension": ".py",
   "mimetype": "text/x-python",
   "name": "python",
   "nbconvert_exporter": "python",
   "pygments_lexer": "ipython3",
   "version": "3.10.14"
  }
 },
 "nbformat": 4,
 "nbformat_minor": 5
}
